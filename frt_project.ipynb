{
  "nbformat": 4,
  "nbformat_minor": 0,
  "metadata": {
    "colab": {
      "name": "frt project.ipynb",
      "provenance": [],
      "collapsed_sections": []
    },
    "kernelspec": {
      "name": "python3",
      "display_name": "Python 3"
    },
    "language_info": {
      "name": "python"
    }
  },
  "cells": [
    {
      "cell_type": "code",
      "metadata": {
        "id": "6VJP_mWb2QiI"
      },
      "source": [
        "import pandas as pd\n",
        "import numpy as np\n",
        "import matplotlib.pyplot as plt\n",
        "import seaborn as sns\n",
        "import warnings\n",
        "warnings.filterwarnings('ignore')"
      ],
      "execution_count": null,
      "outputs": []
    },
    {
      "cell_type": "code",
      "metadata": {
        "id": "TUhWIOFK4MIf"
      },
      "source": [
        "df = pd.read_csv(\"/content/drive/MyDrive/Final year project/oasis_longitudinal.csv\")"
      ],
      "execution_count": null,
      "outputs": []
    },
    {
      "cell_type": "code",
      "metadata": {
        "colab": {
          "base_uri": "https://localhost:8080/",
          "height": 407
        },
        "id": "3_TTlYoF42rj",
        "outputId": "90024528-eba7-4291-a397-eee53e98553b"
      },
      "source": [
        "df.head(10)"
      ],
      "execution_count": null,
      "outputs": [
        {
          "output_type": "execute_result",
          "data": {
            "text/plain": [
              "  Subject ID         MRI ID        Group  Visit  MR Delay M/F Hand  Age  EDUC  \\\n",
              "0  OAS2_0001  OAS2_0001_MR1  Nondemented      1         0   M    R   87    14   \n",
              "1  OAS2_0001  OAS2_0001_MR2  Nondemented      2       457   M    R   88    14   \n",
              "2  OAS2_0002  OAS2_0002_MR1     Demented      1         0   M    R   75    12   \n",
              "3  OAS2_0002  OAS2_0002_MR2     Demented      2       560   M    R   76    12   \n",
              "4  OAS2_0002  OAS2_0002_MR3     Demented      3      1895   M    R   80    12   \n",
              "5  OAS2_0004  OAS2_0004_MR1  Nondemented      1         0   F    R   88    18   \n",
              "6  OAS2_0004  OAS2_0004_MR2  Nondemented      2       538   F    R   90    18   \n",
              "7  OAS2_0005  OAS2_0005_MR1  Nondemented      1         0   M    R   80    12   \n",
              "8  OAS2_0005  OAS2_0005_MR2  Nondemented      2      1010   M    R   83    12   \n",
              "9  OAS2_0005  OAS2_0005_MR3  Nondemented      3      1603   M    R   85    12   \n",
              "\n",
              "   SES  MMSE  CDR  eTIV   nWBV    ASF  \n",
              "0  2.0  27.0  0.0  1987  0.696  0.883  \n",
              "1  2.0  30.0  0.0  2004  0.681  0.876  \n",
              "2  NaN  23.0  0.5  1678  0.736  1.046  \n",
              "3  NaN  28.0  0.5  1738  0.713  1.010  \n",
              "4  NaN  22.0  0.5  1698  0.701  1.034  \n",
              "5  3.0  28.0  0.0  1215  0.710  1.444  \n",
              "6  3.0  27.0  0.0  1200  0.718  1.462  \n",
              "7  4.0  28.0  0.0  1689  0.712  1.039  \n",
              "8  4.0  29.0  0.5  1701  0.711  1.032  \n",
              "9  4.0  30.0  0.0  1699  0.705  1.033  "
            ],
            "text/html": [
              "\n",
              "  <div id=\"df-584ef7cf-8042-4c58-bdfb-ce0db92a7b38\">\n",
              "    <div class=\"colab-df-container\">\n",
              "      <div>\n",
              "<style scoped>\n",
              "    .dataframe tbody tr th:only-of-type {\n",
              "        vertical-align: middle;\n",
              "    }\n",
              "\n",
              "    .dataframe tbody tr th {\n",
              "        vertical-align: top;\n",
              "    }\n",
              "\n",
              "    .dataframe thead th {\n",
              "        text-align: right;\n",
              "    }\n",
              "</style>\n",
              "<table border=\"1\" class=\"dataframe\">\n",
              "  <thead>\n",
              "    <tr style=\"text-align: right;\">\n",
              "      <th></th>\n",
              "      <th>Subject ID</th>\n",
              "      <th>MRI ID</th>\n",
              "      <th>Group</th>\n",
              "      <th>Visit</th>\n",
              "      <th>MR Delay</th>\n",
              "      <th>M/F</th>\n",
              "      <th>Hand</th>\n",
              "      <th>Age</th>\n",
              "      <th>EDUC</th>\n",
              "      <th>SES</th>\n",
              "      <th>MMSE</th>\n",
              "      <th>CDR</th>\n",
              "      <th>eTIV</th>\n",
              "      <th>nWBV</th>\n",
              "      <th>ASF</th>\n",
              "    </tr>\n",
              "  </thead>\n",
              "  <tbody>\n",
              "    <tr>\n",
              "      <th>0</th>\n",
              "      <td>OAS2_0001</td>\n",
              "      <td>OAS2_0001_MR1</td>\n",
              "      <td>Nondemented</td>\n",
              "      <td>1</td>\n",
              "      <td>0</td>\n",
              "      <td>M</td>\n",
              "      <td>R</td>\n",
              "      <td>87</td>\n",
              "      <td>14</td>\n",
              "      <td>2.0</td>\n",
              "      <td>27.0</td>\n",
              "      <td>0.0</td>\n",
              "      <td>1987</td>\n",
              "      <td>0.696</td>\n",
              "      <td>0.883</td>\n",
              "    </tr>\n",
              "    <tr>\n",
              "      <th>1</th>\n",
              "      <td>OAS2_0001</td>\n",
              "      <td>OAS2_0001_MR2</td>\n",
              "      <td>Nondemented</td>\n",
              "      <td>2</td>\n",
              "      <td>457</td>\n",
              "      <td>M</td>\n",
              "      <td>R</td>\n",
              "      <td>88</td>\n",
              "      <td>14</td>\n",
              "      <td>2.0</td>\n",
              "      <td>30.0</td>\n",
              "      <td>0.0</td>\n",
              "      <td>2004</td>\n",
              "      <td>0.681</td>\n",
              "      <td>0.876</td>\n",
              "    </tr>\n",
              "    <tr>\n",
              "      <th>2</th>\n",
              "      <td>OAS2_0002</td>\n",
              "      <td>OAS2_0002_MR1</td>\n",
              "      <td>Demented</td>\n",
              "      <td>1</td>\n",
              "      <td>0</td>\n",
              "      <td>M</td>\n",
              "      <td>R</td>\n",
              "      <td>75</td>\n",
              "      <td>12</td>\n",
              "      <td>NaN</td>\n",
              "      <td>23.0</td>\n",
              "      <td>0.5</td>\n",
              "      <td>1678</td>\n",
              "      <td>0.736</td>\n",
              "      <td>1.046</td>\n",
              "    </tr>\n",
              "    <tr>\n",
              "      <th>3</th>\n",
              "      <td>OAS2_0002</td>\n",
              "      <td>OAS2_0002_MR2</td>\n",
              "      <td>Demented</td>\n",
              "      <td>2</td>\n",
              "      <td>560</td>\n",
              "      <td>M</td>\n",
              "      <td>R</td>\n",
              "      <td>76</td>\n",
              "      <td>12</td>\n",
              "      <td>NaN</td>\n",
              "      <td>28.0</td>\n",
              "      <td>0.5</td>\n",
              "      <td>1738</td>\n",
              "      <td>0.713</td>\n",
              "      <td>1.010</td>\n",
              "    </tr>\n",
              "    <tr>\n",
              "      <th>4</th>\n",
              "      <td>OAS2_0002</td>\n",
              "      <td>OAS2_0002_MR3</td>\n",
              "      <td>Demented</td>\n",
              "      <td>3</td>\n",
              "      <td>1895</td>\n",
              "      <td>M</td>\n",
              "      <td>R</td>\n",
              "      <td>80</td>\n",
              "      <td>12</td>\n",
              "      <td>NaN</td>\n",
              "      <td>22.0</td>\n",
              "      <td>0.5</td>\n",
              "      <td>1698</td>\n",
              "      <td>0.701</td>\n",
              "      <td>1.034</td>\n",
              "    </tr>\n",
              "    <tr>\n",
              "      <th>5</th>\n",
              "      <td>OAS2_0004</td>\n",
              "      <td>OAS2_0004_MR1</td>\n",
              "      <td>Nondemented</td>\n",
              "      <td>1</td>\n",
              "      <td>0</td>\n",
              "      <td>F</td>\n",
              "      <td>R</td>\n",
              "      <td>88</td>\n",
              "      <td>18</td>\n",
              "      <td>3.0</td>\n",
              "      <td>28.0</td>\n",
              "      <td>0.0</td>\n",
              "      <td>1215</td>\n",
              "      <td>0.710</td>\n",
              "      <td>1.444</td>\n",
              "    </tr>\n",
              "    <tr>\n",
              "      <th>6</th>\n",
              "      <td>OAS2_0004</td>\n",
              "      <td>OAS2_0004_MR2</td>\n",
              "      <td>Nondemented</td>\n",
              "      <td>2</td>\n",
              "      <td>538</td>\n",
              "      <td>F</td>\n",
              "      <td>R</td>\n",
              "      <td>90</td>\n",
              "      <td>18</td>\n",
              "      <td>3.0</td>\n",
              "      <td>27.0</td>\n",
              "      <td>0.0</td>\n",
              "      <td>1200</td>\n",
              "      <td>0.718</td>\n",
              "      <td>1.462</td>\n",
              "    </tr>\n",
              "    <tr>\n",
              "      <th>7</th>\n",
              "      <td>OAS2_0005</td>\n",
              "      <td>OAS2_0005_MR1</td>\n",
              "      <td>Nondemented</td>\n",
              "      <td>1</td>\n",
              "      <td>0</td>\n",
              "      <td>M</td>\n",
              "      <td>R</td>\n",
              "      <td>80</td>\n",
              "      <td>12</td>\n",
              "      <td>4.0</td>\n",
              "      <td>28.0</td>\n",
              "      <td>0.0</td>\n",
              "      <td>1689</td>\n",
              "      <td>0.712</td>\n",
              "      <td>1.039</td>\n",
              "    </tr>\n",
              "    <tr>\n",
              "      <th>8</th>\n",
              "      <td>OAS2_0005</td>\n",
              "      <td>OAS2_0005_MR2</td>\n",
              "      <td>Nondemented</td>\n",
              "      <td>2</td>\n",
              "      <td>1010</td>\n",
              "      <td>M</td>\n",
              "      <td>R</td>\n",
              "      <td>83</td>\n",
              "      <td>12</td>\n",
              "      <td>4.0</td>\n",
              "      <td>29.0</td>\n",
              "      <td>0.5</td>\n",
              "      <td>1701</td>\n",
              "      <td>0.711</td>\n",
              "      <td>1.032</td>\n",
              "    </tr>\n",
              "    <tr>\n",
              "      <th>9</th>\n",
              "      <td>OAS2_0005</td>\n",
              "      <td>OAS2_0005_MR3</td>\n",
              "      <td>Nondemented</td>\n",
              "      <td>3</td>\n",
              "      <td>1603</td>\n",
              "      <td>M</td>\n",
              "      <td>R</td>\n",
              "      <td>85</td>\n",
              "      <td>12</td>\n",
              "      <td>4.0</td>\n",
              "      <td>30.0</td>\n",
              "      <td>0.0</td>\n",
              "      <td>1699</td>\n",
              "      <td>0.705</td>\n",
              "      <td>1.033</td>\n",
              "    </tr>\n",
              "  </tbody>\n",
              "</table>\n",
              "</div>\n",
              "      <button class=\"colab-df-convert\" onclick=\"convertToInteractive('df-584ef7cf-8042-4c58-bdfb-ce0db92a7b38')\"\n",
              "              title=\"Convert this dataframe to an interactive table.\"\n",
              "              style=\"display:none;\">\n",
              "        \n",
              "  <svg xmlns=\"http://www.w3.org/2000/svg\" height=\"24px\"viewBox=\"0 0 24 24\"\n",
              "       width=\"24px\">\n",
              "    <path d=\"M0 0h24v24H0V0z\" fill=\"none\"/>\n",
              "    <path d=\"M18.56 5.44l.94 2.06.94-2.06 2.06-.94-2.06-.94-.94-2.06-.94 2.06-2.06.94zm-11 1L8.5 8.5l.94-2.06 2.06-.94-2.06-.94L8.5 2.5l-.94 2.06-2.06.94zm10 10l.94 2.06.94-2.06 2.06-.94-2.06-.94-.94-2.06-.94 2.06-2.06.94z\"/><path d=\"M17.41 7.96l-1.37-1.37c-.4-.4-.92-.59-1.43-.59-.52 0-1.04.2-1.43.59L10.3 9.45l-7.72 7.72c-.78.78-.78 2.05 0 2.83L4 21.41c.39.39.9.59 1.41.59.51 0 1.02-.2 1.41-.59l7.78-7.78 2.81-2.81c.8-.78.8-2.07 0-2.86zM5.41 20L4 18.59l7.72-7.72 1.47 1.35L5.41 20z\"/>\n",
              "  </svg>\n",
              "      </button>\n",
              "      \n",
              "  <style>\n",
              "    .colab-df-container {\n",
              "      display:flex;\n",
              "      flex-wrap:wrap;\n",
              "      gap: 12px;\n",
              "    }\n",
              "\n",
              "    .colab-df-convert {\n",
              "      background-color: #E8F0FE;\n",
              "      border: none;\n",
              "      border-radius: 50%;\n",
              "      cursor: pointer;\n",
              "      display: none;\n",
              "      fill: #1967D2;\n",
              "      height: 32px;\n",
              "      padding: 0 0 0 0;\n",
              "      width: 32px;\n",
              "    }\n",
              "\n",
              "    .colab-df-convert:hover {\n",
              "      background-color: #E2EBFA;\n",
              "      box-shadow: 0px 1px 2px rgba(60, 64, 67, 0.3), 0px 1px 3px 1px rgba(60, 64, 67, 0.15);\n",
              "      fill: #174EA6;\n",
              "    }\n",
              "\n",
              "    [theme=dark] .colab-df-convert {\n",
              "      background-color: #3B4455;\n",
              "      fill: #D2E3FC;\n",
              "    }\n",
              "\n",
              "    [theme=dark] .colab-df-convert:hover {\n",
              "      background-color: #434B5C;\n",
              "      box-shadow: 0px 1px 3px 1px rgba(0, 0, 0, 0.15);\n",
              "      filter: drop-shadow(0px 1px 2px rgba(0, 0, 0, 0.3));\n",
              "      fill: #FFFFFF;\n",
              "    }\n",
              "  </style>\n",
              "\n",
              "      <script>\n",
              "        const buttonEl =\n",
              "          document.querySelector('#df-584ef7cf-8042-4c58-bdfb-ce0db92a7b38 button.colab-df-convert');\n",
              "        buttonEl.style.display =\n",
              "          google.colab.kernel.accessAllowed ? 'block' : 'none';\n",
              "\n",
              "        async function convertToInteractive(key) {\n",
              "          const element = document.querySelector('#df-584ef7cf-8042-4c58-bdfb-ce0db92a7b38');\n",
              "          const dataTable =\n",
              "            await google.colab.kernel.invokeFunction('convertToInteractive',\n",
              "                                                     [key], {});\n",
              "          if (!dataTable) return;\n",
              "\n",
              "          const docLinkHtml = 'Like what you see? Visit the ' +\n",
              "            '<a target=\"_blank\" href=https://colab.research.google.com/notebooks/data_table.ipynb>data table notebook</a>'\n",
              "            + ' to learn more about interactive tables.';\n",
              "          element.innerHTML = '';\n",
              "          dataTable['output_type'] = 'display_data';\n",
              "          await google.colab.output.renderOutput(dataTable, element);\n",
              "          const docLink = document.createElement('div');\n",
              "          docLink.innerHTML = docLinkHtml;\n",
              "          element.appendChild(docLink);\n",
              "        }\n",
              "      </script>\n",
              "    </div>\n",
              "  </div>\n",
              "  "
            ]
          },
          "metadata": {},
          "execution_count": 30
        }
      ]
    },
    {
      "cell_type": "code",
      "metadata": {
        "colab": {
          "base_uri": "https://localhost:8080/"
        },
        "id": "2lzwX5Il45IR",
        "outputId": "5e501693-301a-4a92-8886-34f162d2b7c1"
      },
      "source": [
        "df.shape"
      ],
      "execution_count": null,
      "outputs": [
        {
          "output_type": "execute_result",
          "data": {
            "text/plain": [
              "(373, 15)"
            ]
          },
          "metadata": {},
          "execution_count": 31
        }
      ]
    },
    {
      "cell_type": "code",
      "metadata": {
        "colab": {
          "base_uri": "https://localhost:8080/"
        },
        "id": "EOIzFWeh47vg",
        "outputId": "21af53d6-74ae-402e-d35c-b058ba755da8"
      },
      "source": [
        "df.isnull().sum()"
      ],
      "execution_count": null,
      "outputs": [
        {
          "output_type": "execute_result",
          "data": {
            "text/plain": [
              "Subject ID     0\n",
              "MRI ID         0\n",
              "Group          0\n",
              "Visit          0\n",
              "MR Delay       0\n",
              "M/F            0\n",
              "Hand           0\n",
              "Age            0\n",
              "EDUC           0\n",
              "SES           19\n",
              "MMSE           2\n",
              "CDR            0\n",
              "eTIV           0\n",
              "nWBV           0\n",
              "ASF            0\n",
              "dtype: int64"
            ]
          },
          "metadata": {},
          "execution_count": 32
        }
      ]
    },
    {
      "cell_type": "code",
      "metadata": {
        "id": "9a2OnNaV4-Gi"
      },
      "source": [
        "df.dropna(inplace= True)"
      ],
      "execution_count": null,
      "outputs": []
    },
    {
      "cell_type": "code",
      "metadata": {
        "colab": {
          "base_uri": "https://localhost:8080/"
        },
        "id": "QmvZoRUU5AdY",
        "outputId": "32805719-0059-41e6-82cd-19ee9a2e4292"
      },
      "source": [
        "df.isnull().sum()"
      ],
      "execution_count": null,
      "outputs": [
        {
          "output_type": "execute_result",
          "data": {
            "text/plain": [
              "Subject ID    0\n",
              "MRI ID        0\n",
              "Group         0\n",
              "Visit         0\n",
              "MR Delay      0\n",
              "M/F           0\n",
              "Hand          0\n",
              "Age           0\n",
              "EDUC          0\n",
              "SES           0\n",
              "MMSE          0\n",
              "CDR           0\n",
              "eTIV          0\n",
              "nWBV          0\n",
              "ASF           0\n",
              "dtype: int64"
            ]
          },
          "metadata": {},
          "execution_count": 34
        }
      ]
    },
    {
      "cell_type": "code",
      "metadata": {
        "colab": {
          "base_uri": "https://localhost:8080/",
          "height": 363
        },
        "id": "tyyZDMiq5Da_",
        "outputId": "f6a7f146-23e0-44b9-9e97-3c4ac3de8b4b"
      },
      "source": [
        "df.describe().T"
      ],
      "execution_count": null,
      "outputs": [
        {
          "output_type": "execute_result",
          "data": {
            "text/plain": [
              "          count         mean         std       min         25%        50%  \\\n",
              "Visit     354.0     1.884181    0.925330     1.000     1.00000     2.0000   \n",
              "MR Delay  354.0   601.353107  640.596081     0.000     0.00000   559.5000   \n",
              "Age       354.0    77.033898    7.811808    60.000    71.00000    77.0000   \n",
              "EDUC      354.0    14.703390    2.895662     6.000    12.00000    15.0000   \n",
              "SES       354.0     2.460452    1.134005     1.000     2.00000     2.0000   \n",
              "MMSE      354.0    27.409605    3.712626     4.000    27.00000    29.0000   \n",
              "CDR       354.0     0.271186    0.370537     0.000     0.00000     0.0000   \n",
              "eTIV      354.0  1489.991525  175.768462  1106.000  1358.25000  1470.5000   \n",
              "nWBV      354.0     0.729879    0.037842     0.644     0.69900     0.7290   \n",
              "ASF       354.0     1.193780    0.136821     0.876     1.10025     1.1935   \n",
              "\n",
              "                75%       max  \n",
              "Visit        2.0000     5.000  \n",
              "MR Delay   882.5000  2639.000  \n",
              "Age         82.0000    98.000  \n",
              "EDUC        16.7500    23.000  \n",
              "SES          3.0000     5.000  \n",
              "MMSE        30.0000    30.000  \n",
              "CDR          0.5000     2.000  \n",
              "eTIV      1595.2500  2004.000  \n",
              "nWBV         0.7570     0.837  \n",
              "ASF          1.2925     1.587  "
            ],
            "text/html": [
              "\n",
              "  <div id=\"df-ead25deb-0150-496b-a443-d3c284df6d5a\">\n",
              "    <div class=\"colab-df-container\">\n",
              "      <div>\n",
              "<style scoped>\n",
              "    .dataframe tbody tr th:only-of-type {\n",
              "        vertical-align: middle;\n",
              "    }\n",
              "\n",
              "    .dataframe tbody tr th {\n",
              "        vertical-align: top;\n",
              "    }\n",
              "\n",
              "    .dataframe thead th {\n",
              "        text-align: right;\n",
              "    }\n",
              "</style>\n",
              "<table border=\"1\" class=\"dataframe\">\n",
              "  <thead>\n",
              "    <tr style=\"text-align: right;\">\n",
              "      <th></th>\n",
              "      <th>count</th>\n",
              "      <th>mean</th>\n",
              "      <th>std</th>\n",
              "      <th>min</th>\n",
              "      <th>25%</th>\n",
              "      <th>50%</th>\n",
              "      <th>75%</th>\n",
              "      <th>max</th>\n",
              "    </tr>\n",
              "  </thead>\n",
              "  <tbody>\n",
              "    <tr>\n",
              "      <th>Visit</th>\n",
              "      <td>354.0</td>\n",
              "      <td>1.884181</td>\n",
              "      <td>0.925330</td>\n",
              "      <td>1.000</td>\n",
              "      <td>1.00000</td>\n",
              "      <td>2.0000</td>\n",
              "      <td>2.0000</td>\n",
              "      <td>5.000</td>\n",
              "    </tr>\n",
              "    <tr>\n",
              "      <th>MR Delay</th>\n",
              "      <td>354.0</td>\n",
              "      <td>601.353107</td>\n",
              "      <td>640.596081</td>\n",
              "      <td>0.000</td>\n",
              "      <td>0.00000</td>\n",
              "      <td>559.5000</td>\n",
              "      <td>882.5000</td>\n",
              "      <td>2639.000</td>\n",
              "    </tr>\n",
              "    <tr>\n",
              "      <th>Age</th>\n",
              "      <td>354.0</td>\n",
              "      <td>77.033898</td>\n",
              "      <td>7.811808</td>\n",
              "      <td>60.000</td>\n",
              "      <td>71.00000</td>\n",
              "      <td>77.0000</td>\n",
              "      <td>82.0000</td>\n",
              "      <td>98.000</td>\n",
              "    </tr>\n",
              "    <tr>\n",
              "      <th>EDUC</th>\n",
              "      <td>354.0</td>\n",
              "      <td>14.703390</td>\n",
              "      <td>2.895662</td>\n",
              "      <td>6.000</td>\n",
              "      <td>12.00000</td>\n",
              "      <td>15.0000</td>\n",
              "      <td>16.7500</td>\n",
              "      <td>23.000</td>\n",
              "    </tr>\n",
              "    <tr>\n",
              "      <th>SES</th>\n",
              "      <td>354.0</td>\n",
              "      <td>2.460452</td>\n",
              "      <td>1.134005</td>\n",
              "      <td>1.000</td>\n",
              "      <td>2.00000</td>\n",
              "      <td>2.0000</td>\n",
              "      <td>3.0000</td>\n",
              "      <td>5.000</td>\n",
              "    </tr>\n",
              "    <tr>\n",
              "      <th>MMSE</th>\n",
              "      <td>354.0</td>\n",
              "      <td>27.409605</td>\n",
              "      <td>3.712626</td>\n",
              "      <td>4.000</td>\n",
              "      <td>27.00000</td>\n",
              "      <td>29.0000</td>\n",
              "      <td>30.0000</td>\n",
              "      <td>30.000</td>\n",
              "    </tr>\n",
              "    <tr>\n",
              "      <th>CDR</th>\n",
              "      <td>354.0</td>\n",
              "      <td>0.271186</td>\n",
              "      <td>0.370537</td>\n",
              "      <td>0.000</td>\n",
              "      <td>0.00000</td>\n",
              "      <td>0.0000</td>\n",
              "      <td>0.5000</td>\n",
              "      <td>2.000</td>\n",
              "    </tr>\n",
              "    <tr>\n",
              "      <th>eTIV</th>\n",
              "      <td>354.0</td>\n",
              "      <td>1489.991525</td>\n",
              "      <td>175.768462</td>\n",
              "      <td>1106.000</td>\n",
              "      <td>1358.25000</td>\n",
              "      <td>1470.5000</td>\n",
              "      <td>1595.2500</td>\n",
              "      <td>2004.000</td>\n",
              "    </tr>\n",
              "    <tr>\n",
              "      <th>nWBV</th>\n",
              "      <td>354.0</td>\n",
              "      <td>0.729879</td>\n",
              "      <td>0.037842</td>\n",
              "      <td>0.644</td>\n",
              "      <td>0.69900</td>\n",
              "      <td>0.7290</td>\n",
              "      <td>0.7570</td>\n",
              "      <td>0.837</td>\n",
              "    </tr>\n",
              "    <tr>\n",
              "      <th>ASF</th>\n",
              "      <td>354.0</td>\n",
              "      <td>1.193780</td>\n",
              "      <td>0.136821</td>\n",
              "      <td>0.876</td>\n",
              "      <td>1.10025</td>\n",
              "      <td>1.1935</td>\n",
              "      <td>1.2925</td>\n",
              "      <td>1.587</td>\n",
              "    </tr>\n",
              "  </tbody>\n",
              "</table>\n",
              "</div>\n",
              "      <button class=\"colab-df-convert\" onclick=\"convertToInteractive('df-ead25deb-0150-496b-a443-d3c284df6d5a')\"\n",
              "              title=\"Convert this dataframe to an interactive table.\"\n",
              "              style=\"display:none;\">\n",
              "        \n",
              "  <svg xmlns=\"http://www.w3.org/2000/svg\" height=\"24px\"viewBox=\"0 0 24 24\"\n",
              "       width=\"24px\">\n",
              "    <path d=\"M0 0h24v24H0V0z\" fill=\"none\"/>\n",
              "    <path d=\"M18.56 5.44l.94 2.06.94-2.06 2.06-.94-2.06-.94-.94-2.06-.94 2.06-2.06.94zm-11 1L8.5 8.5l.94-2.06 2.06-.94-2.06-.94L8.5 2.5l-.94 2.06-2.06.94zm10 10l.94 2.06.94-2.06 2.06-.94-2.06-.94-.94-2.06-.94 2.06-2.06.94z\"/><path d=\"M17.41 7.96l-1.37-1.37c-.4-.4-.92-.59-1.43-.59-.52 0-1.04.2-1.43.59L10.3 9.45l-7.72 7.72c-.78.78-.78 2.05 0 2.83L4 21.41c.39.39.9.59 1.41.59.51 0 1.02-.2 1.41-.59l7.78-7.78 2.81-2.81c.8-.78.8-2.07 0-2.86zM5.41 20L4 18.59l7.72-7.72 1.47 1.35L5.41 20z\"/>\n",
              "  </svg>\n",
              "      </button>\n",
              "      \n",
              "  <style>\n",
              "    .colab-df-container {\n",
              "      display:flex;\n",
              "      flex-wrap:wrap;\n",
              "      gap: 12px;\n",
              "    }\n",
              "\n",
              "    .colab-df-convert {\n",
              "      background-color: #E8F0FE;\n",
              "      border: none;\n",
              "      border-radius: 50%;\n",
              "      cursor: pointer;\n",
              "      display: none;\n",
              "      fill: #1967D2;\n",
              "      height: 32px;\n",
              "      padding: 0 0 0 0;\n",
              "      width: 32px;\n",
              "    }\n",
              "\n",
              "    .colab-df-convert:hover {\n",
              "      background-color: #E2EBFA;\n",
              "      box-shadow: 0px 1px 2px rgba(60, 64, 67, 0.3), 0px 1px 3px 1px rgba(60, 64, 67, 0.15);\n",
              "      fill: #174EA6;\n",
              "    }\n",
              "\n",
              "    [theme=dark] .colab-df-convert {\n",
              "      background-color: #3B4455;\n",
              "      fill: #D2E3FC;\n",
              "    }\n",
              "\n",
              "    [theme=dark] .colab-df-convert:hover {\n",
              "      background-color: #434B5C;\n",
              "      box-shadow: 0px 1px 3px 1px rgba(0, 0, 0, 0.15);\n",
              "      filter: drop-shadow(0px 1px 2px rgba(0, 0, 0, 0.3));\n",
              "      fill: #FFFFFF;\n",
              "    }\n",
              "  </style>\n",
              "\n",
              "      <script>\n",
              "        const buttonEl =\n",
              "          document.querySelector('#df-ead25deb-0150-496b-a443-d3c284df6d5a button.colab-df-convert');\n",
              "        buttonEl.style.display =\n",
              "          google.colab.kernel.accessAllowed ? 'block' : 'none';\n",
              "\n",
              "        async function convertToInteractive(key) {\n",
              "          const element = document.querySelector('#df-ead25deb-0150-496b-a443-d3c284df6d5a');\n",
              "          const dataTable =\n",
              "            await google.colab.kernel.invokeFunction('convertToInteractive',\n",
              "                                                     [key], {});\n",
              "          if (!dataTable) return;\n",
              "\n",
              "          const docLinkHtml = 'Like what you see? Visit the ' +\n",
              "            '<a target=\"_blank\" href=https://colab.research.google.com/notebooks/data_table.ipynb>data table notebook</a>'\n",
              "            + ' to learn more about interactive tables.';\n",
              "          element.innerHTML = '';\n",
              "          dataTable['output_type'] = 'display_data';\n",
              "          await google.colab.output.renderOutput(dataTable, element);\n",
              "          const docLink = document.createElement('div');\n",
              "          docLink.innerHTML = docLinkHtml;\n",
              "          element.appendChild(docLink);\n",
              "        }\n",
              "      </script>\n",
              "    </div>\n",
              "  </div>\n",
              "  "
            ]
          },
          "metadata": {},
          "execution_count": 35
        }
      ]
    },
    {
      "cell_type": "code",
      "metadata": {
        "colab": {
          "base_uri": "https://localhost:8080/",
          "height": 487
        },
        "id": "9xWkOBXG5q4P",
        "outputId": "b9aa16c7-c158-400b-dade-283c44d1539c"
      },
      "source": [
        "fig, ax = plt.subplots(figsize = (12,8))\n",
        "sns.heatmap(df.corr(), annot = True, linewidths = .5, ax = ax)\n",
        "plt.show()"
      ],
      "execution_count": null,
      "outputs": [
        {
          "output_type": "display_data",
          "data": {
            "text/plain": [
              "<Figure size 864x576 with 2 Axes>"
            ],
            "image/png": "[encoded data removed]"
          },
          "metadata": {
            "needs_background": "light"
          }
        }
      ]
    },
    {
      "cell_type": "code",
      "metadata": {
        "id": "yB9xrWiw7aR2"
      },
      "source": [
        "df['Group'] = df['Group'].replace(['Converted'], ['Demented']) # Target variable\n",
        "df['Group'] = df['Group'].replace(['Demented', 'Nondemented'], [1,0]) # Target variable\n",
        "df['M/F'] = df['M/F'].replace(['F','M'], [0,1]) # M/F column"
      ],
      "execution_count": null,
      "outputs": []
    },
    {
      "cell_type": "code",
      "metadata": {
        "colab": {
          "base_uri": "https://localhost:8080/"
        },
        "id": "WzaPQJ0_7V04",
        "outputId": "1aff5ddd-1f24-41a2-cf96-87b4c5788912"
      },
      "source": [
        "feature_correlation_matrix = df.corr()\n",
        "feature_correlation_matrix[abs(feature_correlation_matrix['Group']) > 0.1]['Group']"
      ],
      "execution_count": null,
      "outputs": [
        {
          "output_type": "execute_result",
          "data": {
            "text/plain": [
              "Group       1.000000\n",
              "MR Delay   -0.115914\n",
              "M/F         0.223649\n",
              "EDUC       -0.163307\n",
              "MMSE       -0.527441\n",
              "CDR         0.773560\n",
              "nWBV       -0.313929\n",
              "Name: Group, dtype: float64"
            ]
          },
          "metadata": {},
          "execution_count": 38
        }
      ]
    },
    {
      "cell_type": "code",
      "metadata": {
        "colab": {
          "base_uri": "https://localhost:8080/"
        },
        "id": "1IKmayAa8K1I",
        "outputId": "48cf9927-d19b-4f0f-cbe2-ac7a5d587300"
      },
      "source": [
        "\n",
        "from sklearn.model_selection import train_test_split\n",
        "X = df[['MMSE', 'eTIV', 'nWBV', 'ASF']]\n",
        "y = df[['Group']]\n",
        "\n",
        "X_train, X_test, y_train, y_test = train_test_split(X, y, train_size = 0.80, test_size = 0.20, random_state = 100,shuffle=True)\n",
        "\n",
        "print(\"X_Train Shape:\", X_train.shape)\n",
        "print(\"Y_Train Shape:\", y_train.shape)\n",
        "print(\"X_Test Shape:\", X_test.shape)\n",
        "print(\"Y_Test Shape:\", y_test.shape)"
      ],
      "execution_count": null,
      "outputs": [
        {
          "output_type": "stream",
          "name": "stdout",
          "text": [
            "X_Train Shape: (283, 4)\n",
            "Y_Train Shape: (283, 1)\n",
            "X_Test Shape: (71, 4)\n",
            "Y_Test Shape: (71, 1)\n"
          ]
        }
      ]
    },
    {
      "cell_type": "code",
      "metadata": {
        "id": "Z6eksxL8-D8J"
      },
      "source": [
        "#Function for classification report\n",
        "from sklearn.metrics import recall_score, accuracy_score, confusion_matrix, f1_score, matthews_corrcoef,classification_report \n",
        "from sklearn.metrics import plot_confusion_matrix\n",
        "from sklearn.metrics import precision_score\n",
        "\n",
        "def Test_Classification_Report(model, X_test, y_test):\n",
        "\n",
        "    scores = []\n",
        "    metrics = ['F1       ', 'MCC      ', 'Precision', 'Recall   ', 'Accuracy ',\n",
        "               'AUC_ROC  ', 'AUC_PR   ']\n",
        "\n",
        "    # Calculate the individual classification metic scores...\n",
        "    y_pred = model.predict(X_test)\n",
        "    model_f1_score = f1_score(y_test, y_pred)\n",
        "    model_matthews_corrcoef_score = matthews_corrcoef(y_test, y_pred)\n",
        "    model_precision_score = precision_score(y_test, y_pred)\n",
        "    model_recall_score = recall_score(y_test, y_pred)\n",
        "    model_accuracy_score = accuracy_score(y_test, y_pred)\n",
        "\n",
        "    scores.append([(model_f1_score),\n",
        "                (model_matthews_corrcoef_score),\n",
        "                (model_precision_score),\n",
        "                (model_recall_score),\n",
        "                (model_accuracy_score)])\n",
        "\n",
        "    results = pd.DataFrame(columns = ['Classification Metric', 'Score Value'])\n",
        "    for i in range(len(scores[0])):\n",
        "        results.loc[i] = [metrics[i], scores[0][i]]\n",
        "\n",
        "    results.index = np.arange(1, len(results) + 1)\n",
        "\n",
        "    class_report = classification_report(y_test, y_pred)\n",
        "    print('Classification Report:\\n    ',class_report,'\\n')\n",
        "    print('********************************************************')\n",
        "    print('Results:\\n   ',results,'\\n')\n",
        "    print('********************************************************')"
      ],
      "execution_count": null,
      "outputs": []
    },
    {
      "cell_type": "code",
      "metadata": {
        "id": "ppGTw2vqBwID"
      },
      "source": [
        "def feature_importances(model):\n",
        "    fig = plt.figure()\n",
        "    \n",
        "    # get the feature importance of the classifier 'model'\n",
        "    feature_importances = pd.Series(model.feature_importances_,\n",
        "                            index = X_train.columns) \\\n",
        "                    .sort_values(ascending=False)\n",
        "    \n",
        "    # plot the bar chart\n",
        "    sns.barplot(x = feature_importances, y = X_train.columns)\n",
        "    plt.title('Feature Importance plot', fontdict = {'fontsize' : 15})\n",
        "    plt.xticks(rotation = 60)\n",
        "    plt.show()"
      ],
      "execution_count": null,
      "outputs": []
    },
    {
      "cell_type": "code",
      "metadata": {
        "colab": {
          "base_uri": "https://localhost:8080/",
          "height": 936
        },
        "id": "UVXMBJtdB0HW",
        "outputId": "2b502e1b-d2b2-4ba6-843d-599e76f90750"
      },
      "source": [
        "from sklearn.ensemble import GradientBoostingClassifier\n",
        "GBC=GradientBoostingClassifier()\n",
        "GBC.fit(X_train,y_train)\n",
        "predict_GBC=GBC.predict(X_test)\n",
        "accuracy_score_GBC=accuracy_score(y_test,predict_GBC)\n",
        "print(\"Gradient Booster Classifier accuracy :\", \"{:.2f}%\".format(100*accuracy_score_GBC))\n",
        "plot_confusion_matrix(GBC, X_test, y_test,cmap=plt.cm.viridis)\n",
        "plt.show()\n",
        "Test_Classification_Report(GBC, X_test, y_test)\n",
        "feature_importances(GBC)"
      ],
      "execution_count": null,
      "outputs": [
        {
          "output_type": "stream",
          "name": "stdout",
          "text": [
            "Gradient Booster Classifier accuracy : 77.46%\n"
          ]
        },
        {
          "output_type": "display_data",
          "data": {
            "text/plain": [
              "<Figure size 432x288 with 2 Axes>"
            ],
            "image/png": "[encoded data removed]"
          },
          "metadata": {
            "needs_background": "light"
          }
        },
        {
          "output_type": "stream",
          "name": "stdout",
          "text": [
            "Classification Report:\n",
            "                   precision    recall  f1-score   support\n",
            "\n",
            "           0       0.76      0.84      0.79        37\n",
            "           1       0.80      0.71      0.75        34\n",
            "\n",
            "    accuracy                           0.77        71\n",
            "   macro avg       0.78      0.77      0.77        71\n",
            "weighted avg       0.78      0.77      0.77        71\n",
            " \n",
            "\n",
            "********************************************************\n",
            "Results:\n",
            "      Classification Metric  Score Value\n",
            "1             F1            0.750000\n",
            "2             MCC           0.549874\n",
            "3             Precision     0.800000\n",
            "4             Recall        0.705882\n",
            "5             Accuracy      0.774648 \n",
            "\n",
            "********************************************************\n"
          ]
        },
        {
          "output_type": "display_data",
          "data": {
            "text/plain": [
              "<Figure size 432x288 with 1 Axes>"
            ],
            "image/png": "[encoded data removed]"
          },
          "metadata": {
            "needs_background": "light"
          }
        }
      ]
    },
    {
      "cell_type": "code",
      "metadata": {
        "colab": {
          "base_uri": "https://localhost:8080/",
          "height": 936
        },
        "id": "qtyy52DRB5Vk",
        "outputId": "726037e1-7eaf-4122-f958-baf25e07ce79"
      },
      "source": [
        "from sklearn.tree import DecisionTreeClassifier\n",
        "D_Tree = DecisionTreeClassifier(max_depth=2, class_weight='balanced',\n",
        "                                       criterion='entropy', random_state=100)\n",
        "D_Tree.fit(X_train,y_train)\n",
        "predict_D_Tree=D_Tree.predict(X_test)\n",
        "accuracy_score_D_Tree=accuracy_score(y_test,predict_D_Tree)\n",
        "print(\"Decision Tree Classifier accuracy  :\", \"{:.2f}%\".format(100*accuracy_score_D_Tree))\n",
        "plot_confusion_matrix(D_Tree, X_test, y_test,cmap=plt.cm.PiYG)\n",
        "plt.show()\n",
        "Test_Classification_Report(D_Tree, X_test, y_test)\n",
        "feature_importances(D_Tree)"
      ],
      "execution_count": null,
      "outputs": [
        {
          "output_type": "stream",
          "name": "stdout",
          "text": [
            "Decision Tree Classifier accuracy  : 78.87%\n"
          ]
        },
        {
          "output_type": "display_data",
          "data": {
            "text/plain": [
              "<Figure size 432x288 with 2 Axes>"
            ],
            "image/png": "[encoded data removed]"
          },
          "metadata": {
            "needs_background": "light"
          }
        },
        {
          "output_type": "stream",
          "name": "stdout",
          "text": [
            "Classification Report:\n",
            "                   precision    recall  f1-score   support\n",
            "\n",
            "           0       0.71      1.00      0.83        37\n",
            "           1       1.00      0.56      0.72        34\n",
            "\n",
            "    accuracy                           0.79        71\n",
            "   macro avg       0.86      0.78      0.77        71\n",
            "weighted avg       0.85      0.79      0.78        71\n",
            " \n",
            "\n",
            "********************************************************\n",
            "Results:\n",
            "      Classification Metric  Score Value\n",
            "1             F1            0.716981\n",
            "2             MCC           0.630575\n",
            "3             Precision     1.000000\n",
            "4             Recall        0.558824\n",
            "5             Accuracy      0.788732 \n",
            "\n",
            "********************************************************\n"
          ]
        },
        {
          "output_type": "display_data",
          "data": {
            "text/plain": [
              "<Figure size 432x288 with 1 Axes>"
            ],
            "image/png": "[encoded data removed]"
          },
          "metadata": {
            "needs_background": "light"
          }
        }
      ]
    },
    {
      "cell_type": "code",
      "metadata": {
        "colab": {
          "base_uri": "https://localhost:8080/",
          "height": 661
        },
        "id": "Tra0FXy5CFAz",
        "outputId": "3ff556de-ca1e-435a-b89f-7ff486d694c5"
      },
      "source": [
        "from sklearn.ensemble import BaggingClassifier\n",
        "from sklearn.tree import DecisionTreeClassifier\n",
        "Bagging_D_Tree = DecisionTreeClassifier(max_depth=2, class_weight='balanced',\n",
        "                                       criterion='entropy', random_state=100)\n",
        "\n",
        "DTB_clf = BaggingClassifier(base_estimator=Bagging_D_Tree,\n",
        "                                max_samples=0.745, n_estimators=100,\n",
        "                                max_features=0.37,\n",
        "                                n_jobs=-1, random_state=100)\n",
        "DTB_clf.fit(X_train,y_train)\n",
        "predict_DTB_clf=DTB_clf.predict(X_test)\n",
        "accuracy_score_DTB_clf=accuracy_score(y_test,predict_DTB_clf)\n",
        "print(\"Decision Tree Bagging Classifier accuracy  :\", \"{:.2f}%\".format(100*accuracy_score_DTB_clf))\n",
        "plot_confusion_matrix(DTB_clf, X_test, y_test,cmap=plt.cm.coolwarm)\n",
        "plt.show()\n",
        "Test_Classification_Report(DTB_clf, X_test, y_test)"
      ],
      "execution_count": null,
      "outputs": [
        {
          "output_type": "stream",
          "name": "stdout",
          "text": [
            "Decision Tree Bagging Classifier accuracy  : 76.06%\n"
          ]
        },
        {
          "output_type": "display_data",
          "data": {
            "text/plain": [
              "<Figure size 432x288 with 2 Axes>"
            ],
            "image/png": "[encoded data removed]"
          },
          "metadata": {
            "needs_background": "light"
          }
        },
        {
          "output_type": "stream",
          "name": "stdout",
          "text": [
            "Classification Report:\n",
            "                   precision    recall  f1-score   support\n",
            "\n",
            "           0       0.73      0.86      0.79        37\n",
            "           1       0.81      0.65      0.72        34\n",
            "\n",
            "    accuracy                           0.76        71\n",
            "   macro avg       0.77      0.76      0.76        71\n",
            "weighted avg       0.77      0.76      0.76        71\n",
            " \n",
            "\n",
            "********************************************************\n",
            "Results:\n",
            "      Classification Metric  Score Value\n",
            "1             F1            0.721311\n",
            "2             MCC           0.526790\n",
            "3             Precision     0.814815\n",
            "4             Recall        0.647059\n",
            "5             Accuracy      0.760563 \n",
            "\n",
            "********************************************************\n"
          ]
        }
      ]
    },
    {
      "cell_type": "code",
      "metadata": {
        "colab": {
          "base_uri": "https://localhost:8080/",
          "height": 661
        },
        "id": "VjGIjsqXzbBt",
        "outputId": "5c2061a1-4987-494e-a4d6-6eb99de2e14b"
      },
      "source": [
        "from sklearn.linear_model import LogisticRegression\n",
        "\n",
        "LR=LogisticRegression(max_iter=100)\n",
        "LR.fit(X_train,y_train)\n",
        "predict_LR=LR.predict(X_test)\n",
        "accuracy_score_LR=accuracy_score(y_test,predict_LR)\n",
        "print(\"Logistic Regression accuracy  :\", \"{:.2f}%\".format(100*accuracy_score_LR))\n",
        "plot_confusion_matrix(LR, X_test, y_test,cmap=plt.cm.Greens)\n",
        "plt.show()\n",
        "Test_Classification_Report(LR, X_test, y_test)\n"
      ],
      "execution_count": null,
      "outputs": [
        {
          "output_type": "stream",
          "name": "stdout",
          "text": [
            "Logistic Regression accuracy  : 83.10%\n"
          ]
        },
        {
          "output_type": "display_data",
          "data": {
            "text/plain": [
              "<Figure size 432x288 with 2 Axes>"
            ],
            "image/png": "[encoded data removed]"
          },
          "metadata": {
            "needs_background": "light"
          }
        },
        {
          "output_type": "stream",
          "name": "stdout",
          "text": [
            "Classification Report:\n",
            "                   precision    recall  f1-score   support\n",
            "\n",
            "           0       0.77      0.97      0.86        37\n",
            "           1       0.96      0.68      0.79        34\n",
            "\n",
            "    accuracy                           0.83        71\n",
            "   macro avg       0.86      0.82      0.83        71\n",
            "weighted avg       0.86      0.83      0.83        71\n",
            " \n",
            "\n",
            "********************************************************\n",
            "Results:\n",
            "      Classification Metric  Score Value\n",
            "1             F1            0.793103\n",
            "2             MCC           0.685847\n",
            "3             Precision     0.958333\n",
            "4             Recall        0.676471\n",
            "5             Accuracy      0.830986 \n",
            "\n",
            "********************************************************\n"
          ]
        }
      ]
    },
    {
      "cell_type": "markdown",
      "source": [
        "Since out of all the algorithms Logistic Regression has the best accuracy we are saving the logistic regression model for prediction."
      ],
      "metadata": {
        "id": "s79Owojef_U4"
      }
    },
    {
      "cell_type": "code",
      "source": [
        "print(y_test)\n",
        "testing=pd.DataFrame(data=y_test, columns=['y_test'])\n",
        "testing\n",
        "predict_LR\n"
      ],
      "metadata": {
        "colab": {
          "base_uri": "https://localhost:8080/"
        },
        "id": "2fAXsXv88OCe",
        "outputId": "2259ff12-d1be-4ea4-8eec-6a37950188b7"
      },
      "execution_count": null,
      "outputs": [
        {
          "output_type": "stream",
          "name": "stdout",
          "text": [
            "     Group\n",
            "211      0\n",
            "174      1\n",
            "62       0\n",
            "192      0\n",
            "199      0\n",
            "..     ...\n",
            "66       0\n",
            "124      1\n",
            "102      0\n",
            "37       1\n",
            "345      1\n",
            "\n",
            "[71 rows x 1 columns]\n"
          ]
        },
        {
          "output_type": "execute_result",
          "data": {
            "text/plain": [
              "array([0, 1, 0, 0, 0, 1, 0, 1, 0, 0, 1, 1, 1, 0, 0, 0, 0, 0, 0, 0, 0, 1,\n",
              "       1, 0, 0, 1, 0, 1, 0, 1, 0, 1, 0, 0, 1, 0, 0, 0, 0, 0, 0, 0, 0, 0,\n",
              "       0, 0, 0, 1, 0, 0, 0, 1, 0, 0, 1, 1, 0, 0, 1, 1, 1, 0, 0, 1, 0, 0,\n",
              "       0, 1, 0, 1, 1])"
            ]
          },
          "metadata": {},
          "execution_count": 45
        }
      ]
    },
    {
      "cell_type": "code",
      "source": [
        "import joblib\n",
        "joblib.dump(LR,\"Logistic_model.pkl\") "
      ],
      "metadata": {
        "colab": {
          "base_uri": "https://localhost:8080/"
        },
        "id": "wk_yF4fEB5E-",
        "outputId": "ffebd3c3-545f-49d5-979b-8e78da888725"
      },
      "execution_count": null,
      "outputs": [
        {
          "output_type": "execute_result",
          "data": {
            "text/plain": [
              "['Logistic_model.pkl']"
            ]
          },
          "metadata": {},
          "execution_count": 22
        }
      ]
    },
    {
      "cell_type": "code",
      "source": [
        "import os\n",
        "os.listdir()\n",
        "!ls"
      ],
      "metadata": {
        "colab": {
          "base_uri": "https://localhost:8080/"
        },
        "id": "6brmfrAveIww",
        "outputId": "c093f866-e8d9-4140-d455-4719e09aacdc"
      },
      "execution_count": null,
      "outputs": [
        {
          "output_type": "stream",
          "name": "stdout",
          "text": [
            "drive  Logistic_model.pkl  sample_data\n"
          ]
        }
      ]
    },
    {
      "cell_type": "code",
      "source": [
        "prediction=LR.predict([[27,1106.0,0.69,1.29]])"
      ],
      "metadata": {
        "id": "P5GwaR9_xh_f"
      },
      "execution_count": null,
      "outputs": []
    },
    {
      "cell_type": "code",
      "source": [
        "print(str(prediction))\n",
        "model_prediction = int(prediction)\n",
        "model_prediction"
      ],
      "metadata": {
        "colab": {
          "base_uri": "https://localhost:8080/"
        },
        "id": "PYMXR3KM0TI1",
        "outputId": "b2ac0e22-1d69-4583-a431-b4e3c296be47"
      },
      "execution_count": null,
      "outputs": [
        {
          "output_type": "stream",
          "name": "stdout",
          "text": [
            "[1]\n"
          ]
        },
        {
          "output_type": "execute_result",
          "data": {
            "text/plain": [
              "1"
            ]
          },
          "metadata": {},
          "execution_count": 56
        }
      ]
    },
    {
      "cell_type": "code",
      "metadata": {
        "id": "ug3F4nSj0WVZ",
        "colab": {
          "base_uri": "https://localhost:8080/"
        },
        "outputId": "f6ff1f73-4eed-47ff-8a58-d82612387b9e"
      },
      "source": [
        "from sklearn.neighbors import KNeighborsClassifier\n",
        "knn = KNeighborsClassifier(n_neighbors=5)\n",
        " \n",
        "knn=knn.fit(X_train.values, y_train.values.ravel())\n",
        "\n",
        "Test_Classification_Report(knn, X_test, y_test)"
      ],
      "execution_count": null,
      "outputs": [
        {
          "output_type": "stream",
          "name": "stdout",
          "text": [
            "Classification Report:\n",
            "                   precision    recall  f1-score   support\n",
            "\n",
            "           0       0.71      0.73      0.72        37\n",
            "           1       0.70      0.68      0.69        34\n",
            "\n",
            "    accuracy                           0.70        71\n",
            "   macro avg       0.70      0.70      0.70        71\n",
            "weighted avg       0.70      0.70      0.70        71\n",
            " \n",
            "\n",
            "********************************************************\n",
            "Results:\n",
            "      Classification Metric  Score Value\n",
            "1             F1            0.686567\n",
            "2             MCC           0.406848\n",
            "3             Precision     0.696970\n",
            "4             Recall        0.676471\n",
            "5             Accuracy      0.704225 \n",
            "\n",
            "********************************************************\n"
          ]
        }
      ]
    },
    {
      "cell_type": "code",
      "metadata": {
        "colab": {
          "base_uri": "https://localhost:8080/"
        },
        "id": "AtNk1gfDzL9_",
        "outputId": "ddcd4ff0-0189-463a-a40d-c2333355f44c"
      },
      "source": [
        "#Import svm Linear model\n",
        "from sklearn import svm\n",
        "\n",
        "#Create a svm Classifier\n",
        "clf = svm.SVC(kernel='linear', probability=True) # Linear Kernel\n",
        "\n",
        "#Train the model using the training sets\n",
        "clf=clf.fit(X_train.values, y_train.values.ravel())\n",
        "Test_Classification_Report(clf, X_test, y_test)\n",
        "plt.show()"
      ],
      "execution_count": null,
      "outputs": [
        {
          "output_type": "stream",
          "name": "stdout",
          "text": [
            "Classification Report:\n",
            "                   precision    recall  f1-score   support\n",
            "\n",
            "           0       0.73      0.97      0.84        37\n",
            "           1       0.95      0.62      0.75        34\n",
            "\n",
            "    accuracy                           0.80        71\n",
            "   macro avg       0.84      0.80      0.79        71\n",
            "weighted avg       0.84      0.80      0.80        71\n",
            " \n",
            "\n",
            "********************************************************\n",
            "Results:\n",
            "      Classification Metric  Score Value\n",
            "1             F1            0.750000\n",
            "2             MCC           0.638027\n",
            "3             Precision     0.954545\n",
            "4             Recall        0.617647\n",
            "5             Accuracy      0.802817 \n",
            "\n",
            "********************************************************\n"
          ]
        }
      ]
    },
    {
      "cell_type": "code",
      "metadata": {
        "colab": {
          "base_uri": "https://localhost:8080/"
        },
        "id": "dn5h0jfM2vlM",
        "outputId": "cb0d3f19-6219-4b48-8165-a67df83f1f1e"
      },
      "source": [
        "#Import svm Radial model\n",
        "from sklearn import svm\n",
        "\n",
        "#Create a svm Classifier\n",
        "clf_rad = svm.SVC(kernel='rbf', probability=True) # RBF (radial basis function)\n",
        "\n",
        "#Train the model using the training sets\n",
        "clf_rad=clf_rad.fit(X_train.values, y_train.values.ravel())\n",
        "Test_Classification_Report(clf_rad, X_test, y_test)"
      ],
      "execution_count": null,
      "outputs": [
        {
          "output_type": "stream",
          "name": "stdout",
          "text": [
            "Classification Report:\n",
            "                   precision    recall  f1-score   support\n",
            "\n",
            "           0       0.52      1.00      0.69        37\n",
            "           1       0.00      0.00      0.00        34\n",
            "\n",
            "    accuracy                           0.52        71\n",
            "   macro avg       0.26      0.50      0.34        71\n",
            "weighted avg       0.27      0.52      0.36        71\n",
            " \n",
            "\n",
            "********************************************************\n",
            "Results:\n",
            "      Classification Metric  Score Value\n",
            "1             F1            0.000000\n",
            "2             MCC           0.000000\n",
            "3             Precision     0.000000\n",
            "4             Recall        0.000000\n",
            "5             Accuracy      0.521127 \n",
            "\n",
            "********************************************************\n"
          ]
        }
      ]
    },
    {
      "cell_type": "code",
      "metadata": {
        "colab": {
          "base_uri": "https://localhost:8080/"
        },
        "id": "ccR1wvX-3ZeT",
        "outputId": "9f8313fc-e890-43a7-c1f5-c66dca0af226"
      },
      "source": [
        "from sklearn.naive_bayes import GaussianNB \n",
        "nb_clf = GaussianNB()\n",
        "nb_clf.fit(X_train, y_train.values.ravel())\n",
        "# Generate the model test classification report\n",
        "Test_Classification_Report(nb_clf, X_test, y_test)"
      ],
      "execution_count": null,
      "outputs": [
        {
          "output_type": "stream",
          "name": "stdout",
          "text": [
            "Classification Report:\n",
            "                   precision    recall  f1-score   support\n",
            "\n",
            "           0       0.72      0.97      0.83        37\n",
            "           1       0.95      0.59      0.73        34\n",
            "\n",
            "    accuracy                           0.79        71\n",
            "   macro avg       0.84      0.78      0.78        71\n",
            "weighted avg       0.83      0.79      0.78        71\n",
            " \n",
            "\n",
            "********************************************************\n",
            "Results:\n",
            "      Classification Metric  Score Value\n",
            "1             F1            0.727273\n",
            "2             MCC           0.614285\n",
            "3             Precision     0.952381\n",
            "4             Recall        0.588235\n",
            "5             Accuracy      0.788732 \n",
            "\n",
            "********************************************************\n"
          ]
        }
      ]
    },
    {
      "cell_type": "code",
      "metadata": {
        "colab": {
          "base_uri": "https://localhost:8080/"
        },
        "id": "UEdolmms5S3H",
        "outputId": "33026285-c56e-4059-e817-fc11d2b0310e"
      },
      "source": [
        "from sklearn.ensemble import AdaBoostClassifier\n",
        "adb_clf = AdaBoostClassifier(n_estimators=100, random_state=0)\n",
        "adb_clf.fit(X_train, y_train.values.ravel())\n",
        "Test_Classification_Report(adb_clf, X_test, y_test)"
      ],
      "execution_count": null,
      "outputs": [
        {
          "output_type": "stream",
          "name": "stdout",
          "text": [
            "Classification Report:\n",
            "                   precision    recall  f1-score   support\n",
            "\n",
            "           0       0.77      0.89      0.82        37\n",
            "           1       0.86      0.71      0.77        34\n",
            "\n",
            "    accuracy                           0.80        71\n",
            "   macro avg       0.81      0.80      0.80        71\n",
            "weighted avg       0.81      0.80      0.80        71\n",
            " \n",
            "\n",
            "********************************************************\n",
            "Results:\n",
            "      Classification Metric  Score Value\n",
            "1             F1            0.774194\n",
            "2             MCC           0.611032\n",
            "3             Precision     0.857143\n",
            "4             Recall        0.705882\n",
            "5             Accuracy      0.802817 \n",
            "\n",
            "********************************************************\n"
          ]
        }
      ]
    },
    {
      "cell_type": "code",
      "metadata": {
        "colab": {
          "base_uri": "https://localhost:8080/",
          "height": 942
        },
        "id": "sHVw9lTf8efD",
        "outputId": "b06fcf80-2c44-4c01-d54c-9fe65413fe11"
      },
      "source": [
        "from sklearn.ensemble import RandomForestClassifier\n",
        "RFC=RandomForestClassifier()\n",
        "RFC.fit(X_train,y_train)\n",
        "predict_RFC=RFC.predict(X_test)\n",
        "accuracy_score_RFC=accuracy_score(y_test,predict_RFC)\n",
        "print(\"Random Forest Classifier accuracy  :\", \"{:.2f}%\".format(100*accuracy_score_RFC))\n",
        "plot_confusion_matrix(RFC, X_test, y_test,cmap=plt.cm.YlGnBu)\n",
        "plt.show()\n",
        "Test_Classification_Report(RFC, X_test, y_test)\n",
        "feature_importances(RFC)"
      ],
      "execution_count": null,
      "outputs": [
        {
          "output_type": "stream",
          "name": "stdout",
          "text": [
            "Random Forest Classifier accuracy  : 76.06%\n"
          ]
        },
        {
          "output_type": "display_data",
          "data": {
            "image/png": "[encoded data removed]",
            "text/plain": [
              "<Figure size 432x288 with 2 Axes>"
            ]
          },
          "metadata": {
            "needs_background": "light"
          }
        },
        {
          "output_type": "stream",
          "name": "stdout",
          "text": [
            "Classification Report:\n",
            "                   precision    recall  f1-score   support\n",
            "\n",
            "           0       0.78      0.76      0.77        37\n",
            "           1       0.74      0.76      0.75        34\n",
            "\n",
            "    accuracy                           0.76        71\n",
            "   macro avg       0.76      0.76      0.76        71\n",
            "weighted avg       0.76      0.76      0.76        71\n",
            " \n",
            "\n",
            "********************************************************\n",
            "Results:\n",
            "      Classification Metric  Score Value\n",
            "1             F1            0.753623\n",
            "2             MCC           0.521049\n",
            "3             Precision     0.742857\n",
            "4             Recall        0.764706\n",
            "5             Accuracy      0.760563 \n",
            "\n",
            "********************************************************\n"
          ]
        },
        {
          "output_type": "display_data",
          "data": {
            "image/png": "[encoded data removed]",
            "text/plain": [
              "<Figure size 432x288 with 1 Axes>"
            ]
          },
          "metadata": {
            "needs_background": "light"
          }
        }
      ]
    },
    {
      "cell_type": "code",
      "metadata": {
        "colab": {
          "base_uri": "https://localhost:8080/",
          "height": 661
        },
        "id": "h3MIXcc68qya",
        "outputId": "47bd4471-6fc2-417a-cb1a-398a20ada6b7"
      },
      "source": [
        "from sklearn.ensemble import BaggingClassifier\n",
        "BagC=BaggingClassifier()\n",
        "BagC.fit(X_train,y_train)\n",
        "predict_BagC=BagC.predict(X_test)\n",
        "accuracy_score_BagC=accuracy_score(y_test,predict_BagC)\n",
        "print(\"Bagging Classifier accuracy  :\", \"{:.2f}%\".format(100*accuracy_score_BagC))\n",
        "plot_confusion_matrix(BagC, X_test, y_test,cmap=plt.cm.BuPu)\n",
        "plt.show()\n",
        "Test_Classification_Report(BagC, X_test, y_test)"
      ],
      "execution_count": null,
      "outputs": [
        {
          "output_type": "stream",
          "name": "stdout",
          "text": [
            "Bagging Classifier accuracy  : 78.87%\n"
          ]
        },
        {
          "output_type": "display_data",
          "data": {
            "image/png": "[encoded data removed]",
            "text/plain": [
              "<Figure size 432x288 with 2 Axes>"
            ]
          },
          "metadata": {
            "needs_background": "light"
          }
        },
        {
          "output_type": "stream",
          "name": "stdout",
          "text": [
            "Classification Report:\n",
            "                   precision    recall  f1-score   support\n",
            "\n",
            "           0       0.81      0.78      0.79        37\n",
            "           1       0.77      0.79      0.78        34\n",
            "\n",
            "    accuracy                           0.79        71\n",
            "   macro avg       0.79      0.79      0.79        71\n",
            "weighted avg       0.79      0.79      0.79        71\n",
            " \n",
            "\n",
            "********************************************************\n",
            "Results:\n",
            "      Classification Metric  Score Value\n",
            "1             F1            0.782609\n",
            "2             MCC           0.577443\n",
            "3             Precision     0.771429\n",
            "4             Recall        0.794118\n",
            "5             Accuracy      0.788732 \n",
            "\n",
            "********************************************************\n"
          ]
        }
      ]
    },
    {
      "cell_type": "code",
      "metadata": {
        "colab": {
          "base_uri": "https://localhost:8080/",
          "height": 936
        },
        "id": "dNGqX00h8zVr",
        "outputId": "c5f9833e-85b7-4b71-ad8a-5a8409fccd61"
      },
      "source": [
        "# XGBoost -Extreme Gradient Boost\n",
        "from xgboost import XGBClassifier\n",
        "XGB=XGBClassifier()\n",
        "XGB.fit(X_train,y_train)\n",
        "predict_XGB=XGB.predict(X_test)\n",
        "accuracy_score_XGB=accuracy_score(y_test,predict_XGB)\n",
        "print(\" Extreme Gradient Boost accuracy  :\", \"{:.2f}%\".format(100*accuracy_score_XGB))\n",
        "plot_confusion_matrix(XGB, X_test, y_test,cmap=plt.cm.PiYG)\n",
        "plt.show()\n",
        "Test_Classification_Report(XGB, X_test, y_test)\n",
        "feature_importances(XGB)"
      ],
      "execution_count": null,
      "outputs": [
        {
          "output_type": "stream",
          "name": "stdout",
          "text": [
            " Extreme Gradient Boost accuracy  : 78.87%\n"
          ]
        },
        {
          "output_type": "display_data",
          "data": {
            "image/png": "[encoded data removed]",
            "text/plain": [
              "<Figure size 432x288 with 2 Axes>"
            ]
          },
          "metadata": {
            "needs_background": "light"
          }
        },
        {
          "output_type": "stream",
          "name": "stdout",
          "text": [
            "Classification Report:\n",
            "                   precision    recall  f1-score   support\n",
            "\n",
            "           0       0.76      0.86      0.81        37\n",
            "           1       0.83      0.71      0.76        34\n",
            "\n",
            "    accuracy                           0.79        71\n",
            "   macro avg       0.79      0.79      0.79        71\n",
            "weighted avg       0.79      0.79      0.79        71\n",
            " \n",
            "\n",
            "********************************************************\n",
            "Results:\n",
            "      Classification Metric  Score Value\n",
            "1             F1            0.761905\n",
            "2             MCC           0.580043\n",
            "3             Precision     0.827586\n",
            "4             Recall        0.705882\n",
            "5             Accuracy      0.788732 \n",
            "\n",
            "********************************************************\n"
          ]
        },
        {
          "output_type": "display_data",
          "data": {
            "image/png": "[encoded data removed]",
            "text/plain": [
              "<Figure size 432x288 with 1 Axes>"
            ]
          },
          "metadata": {
            "needs_background": "light"
          }
        }
      ]
    },
    {
      "cell_type": "code",
      "metadata": {
        "id": "paEbOA8Z5we4"
      },
      "source": [
        "lst_acc=[accuracy_score_LR,accuracy_score_RFC,accuracy_score_D_Tree,accuracy_score_DTB_clf,accuracy_score_BagC,accuracy_score_XGB,accuracy_score_GBC,0.802817,0.788732,0.521127,0.802817,0.704225,0.5910, ]\n",
        "acc_lable=['Logistic Regression Accuracy','Random Forest','Decision Tree','Decision Tree with Bagging',\n",
        "        ' Bagging Classifier Accuracy','XGBoost','Gradient Boosting','AdaBoostClassifier','GaussianNB','SVM Radial','SVM Linear','KNN','Linear Regression',]"
      ],
      "execution_count": null,
      "outputs": []
    },
    {
      "cell_type": "code",
      "metadata": {
        "colab": {
          "base_uri": "https://localhost:8080/",
          "height": 607
        },
        "id": "CGe1N5zK8MzU",
        "outputId": "07ac25fb-e20d-4938-ab4d-46b992ee7f6a"
      },
      "source": [
        "plt.figure(figsize=(15,10))\n",
        "plt.barh(acc_lable,lst_acc,color ='#4FC8A0')\n",
        "plt.title('Accuracy Comparison')\n",
        "for index, value in enumerate(lst_acc):\n",
        "    plt.text(value, index, str(value))\n",
        "plt.show()"
      ],
      "execution_count": null,
      "outputs": [
        {
          "output_type": "display_data",
          "data": {
            "image/png": "[encoded data removed]",
            "text/plain": [
              "<Figure size 1080x720 with 1 Axes>"
            ]
          },
          "metadata": {
            "needs_background": "light"
          }
        }
      ]
    },
    {
      "cell_type": "code",
      "metadata": {
        "id": "Af3sRVaW85bx"
      },
      "source": [
        ""
      ],
      "execution_count": null,
      "outputs": []
    }
  ]
}